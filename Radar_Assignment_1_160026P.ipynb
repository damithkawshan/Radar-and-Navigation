{
  "nbformat": 4,
  "nbformat_minor": 0,
  "metadata": {
    "colab": {
      "name": "Radar Assignment 1 - 160026P.ipynb",
      "provenance": [],
      "collapsed_sections": [
        "vM1m9iM1ih8X"
      ]
    },
    "kernelspec": {
      "name": "python3",
      "display_name": "Python 3"
    }
  },
  "cells": [
    {
      "cell_type": "markdown",
      "metadata": {
        "id": "ploFcyRH3BUI"
      },
      "source": [
        "#EN4353 - Radar and Navigation - Assignment 01\r\n",
        "###160026P - A. G. D. K. Anhettigama\r\n",
        "\r\n",
        "Link to Colab Notebook : https://colab.research.google.com/drive/1mo-dFzfmhkZO1nDBagvcSyrUIeiwbg7i?usp=sharing\r\n",
        "\r\n"
      ]
    },
    {
      "cell_type": "markdown",
      "metadata": {
        "id": "RH5pEpPp5Z7v"
      },
      "source": [
        "#Initialization"
      ]
    },
    {
      "cell_type": "markdown",
      "metadata": {
        "id": "9LXtOuFJ2hp7"
      },
      "source": [
        "##Import Libraries and Load .csv files \r\n",
        "\r\n",
        "***Hint: To upload a custom file you can provide url of your .csv file as url4 and change filename variable in \"Get the file ID from user\" field to df4.***\r\n",
        "\r\n"
      ]
    },
    {
      "cell_type": "code",
      "metadata": {
        "id": "Fh8qKnts05P3"
      },
      "source": [
        "#import libraries and csv files\r\n",
        "\r\n",
        "import pandas as pd\r\n",
        "import io\r\n",
        "import matplotlib.pyplot as plt\r\n",
        "import seaborn as sns\r\n",
        "import numpy as np\r\n",
        "import cv2 as cv\r\n",
        "\r\n",
        "plt.style.use('default')\r\n",
        "\r\n",
        "url1 = 'https://raw.githubusercontent.com/damithkawshan/Radar-and-Navigation/main/raw_data1.csv'\r\n",
        "df1 = pd.read_csv(url1,sep=';',header=None,squeeze=True)\r\n",
        "\r\n",
        "url2 = 'https://raw.githubusercontent.com/damithkawshan/Radar-and-Navigation/main/raw_data2.csv'\r\n",
        "df2 = pd.read_csv(url2,sep=';',header=None,squeeze=True)\r\n",
        "\r\n",
        "url3 = 'https://raw.githubusercontent.com/damithkawshan/Radar-and-Navigation/main/raw_data3.csv'\r\n",
        "df3 = pd.read_csv(url3,sep=';',header=None,squeeze=True)\r\n",
        "\r\n",
        "url4 = 'https://raw.githubusercontent.com/damithkawshan/Radar-and-Navigation/main/raw_data3.csv' #provide url of your file here\r\n",
        "df4 = pd.read_csv(url4,sep=';',header=None,squeeze=True)\r\n",
        "\r\n",
        "df5 = df2.append(df3)\r\n",
        "\r\n",
        "Radar_ADC = {'df1':df1,'df2':df2,'df3':df3,'df4':df4}\r\n"
      ],
      "execution_count": 31,
      "outputs": []
    },
    {
      "cell_type": "markdown",
      "metadata": {
        "id": "ZlJNnIqk3d1q"
      },
      "source": [
        "##Get the file ID from user\r\n",
        "\r\n",
        "\r\n",
        "Change filename accordingly to select the csv file.\r\n",
        "\r\n",
        "**df1 : raw_data1.csv**\r\n",
        "\r\n",
        "**df2 : raw_data2.csv**\r\n",
        "\r\n",
        "**df3 : raw_data3.csv**\r\n",
        "\r\n",
        "**df4 : custom .csv file**"
      ]
    },
    {
      "cell_type": "code",
      "metadata": {
        "id": "IqLXSUrL1N_o"
      },
      "source": [
        "#get the file to analyse\r\n",
        "\r\n",
        "filename = \"df2\"\r\n",
        "Raw_data = Radar_ADC[filename].to_numpy()\r\n"
      ],
      "execution_count": 32,
      "outputs": []
    },
    {
      "cell_type": "markdown",
      "metadata": {
        "id": "Z-1_xPxz3Ezm"
      },
      "source": [
        "## Define Parameters\r\n",
        "\r\n",
        "* No. of range slots:  $N = 30$ \r\n",
        "\r\n",
        "* Pulse Repitition Frequency: $f_r = 1800 Hz$\r\n",
        "\r\n",
        "* Initial Sampling Frequency $F_{s(orig)} = 1080kHz$\r\n",
        "\r\n",
        "\r\n",
        "* Number of samples in raw_data file  $n_{samples} = 18000$\r\n",
        "\r\n",
        "\r\n",
        "* For noise thresholding:\r\n",
        "\r\n",
        "    >$\\sigma_n = 1$\r\n",
        "\r\n",
        "    >$k = 1.3$\r\n",
        "\r\n",
        "* For coherent detection min responses to be a target in certain range slot.\r\n",
        "\r\n",
        "    >$bins_{(min)} = 15$\r\n",
        "    \r\n",
        "\r\n",
        "* Speed of Light $C=3\\times10^{8}ms^{-1}$\r\n",
        "\r\n",
        "* Speed of rotation of the radar $revol\\: speed = 12 \\:revols.\\: per\\: minute$\r\n",
        "\r\n",
        "* Initial azimuth angle $\\theta_{init} = 0^\\circ$ \r\n",
        "\r\n",
        "* Horizontal Beam Width $\\theta_H = 2^\\circ$\r\n",
        "\r\n",
        "***N.B***\r\n",
        "In the assignment we were given\r\n",
        "***(You are given three ﬁles (Test_case1.csv, Test_case2.csv, and\r\n",
        "Test_case3.csv), which contain the input for ﬁrst three test cases. Each test case contains 18000 samples of the output present after demodulation.)***\r\n",
        "\r\n",
        "Therefore I have fixed my implementation to generate single datamatrix because the given dataset contains pulses for $1.2^\\circ$ rotation which is less than $\\theta_H = 2^\\circ$.\r\n",
        "\r\n",
        "But If  $ \\# \\:pulses > 50$ we have to generate $\\frac{\\# \\:pulses}{pulses\\: per\\: \\theta_H}$ data matrices and perform threshold detection for each horizontal beam slot.\r\n",
        "\r\n",
        "\r\n"
      ]
    },
    {
      "cell_type": "code",
      "metadata": {
        "id": "HKNasIAv2QUY"
      },
      "source": [
        "#parameters\r\n",
        "\r\n",
        "N = 30 # no of bins\r\n",
        "fr = 1800 # pulse repitition freq\r\n",
        "Fs_orig = 1080*1000 #original sampling freq 1080kHz\r\n",
        "\r\n",
        "#thresholding\r\n",
        "sigma_n = 1\r\n",
        "k = 1.3\r\n",
        "\r\n",
        "#coherent detection min threshold to being a target\r\n",
        "min_bins = 15\r\n",
        "\r\n",
        "C = 3e8\r\n",
        "rev_speed = 12\r\n",
        "theta_init = 0\r\n",
        "theta_h = 2"
      ],
      "execution_count": null,
      "outputs": []
    },
    {
      "cell_type": "markdown",
      "metadata": {
        "id": "GYyPSNB53n0b"
      },
      "source": [
        "#Analog to Digital Conversion \r\n",
        "###*(For our problerm downsampling of raw data stream)*\r\n",
        "\r\n",
        "\r\n",
        "Since one pulse contain 30 bins, required sampling frequency is:\r\n",
        ">$F_s = Nf_r$\r\n",
        "\r\n",
        "> $\\therefore F_s= 30\\cdot1800 = 54kHz$\r\n",
        "\r\n",
        ">$T_s = \\frac{1}{F_s} = 18.52\\mu s$\r\n",
        "\r\n",
        "  >$T_{sampled} = \\frac{n_{samples}}{fs} = \\frac{18000}{1080000} = \\frac{1}{60} s$\r\n",
        "\r\n",
        "  >$\\theta_{revolved} = \\frac{revol\\ speed \\times T_{sampled} \\times 360^{\\circ}}{60} = 1.2^{\\circ}$\r\n",
        "\r\n",
        "  >$echoes\\ per\\ \\theta_H = \\frac{\\theta_H \\times f_r}{6 \\times revol\\ speed} = 50$\r\n",
        "\r\n",
        "  >$echoes\\ for\\ 1.2^{\\circ} = \\frac{echoes\\ per\\ \\theta_H \\times 1.2^{\\circ}}{\\theta_H} = 30$\r\n",
        "\r\n",
        "Therefore dimensions of the data matrix would be $(echoes\\ for\\ 1.2^{\\circ}\\times N)= 30\\times30$\r\n",
        "\r\n",
        "Since our $1080kHz$ raw data need to be downsampled to $54kHz\\:\\:$ therefore, downsampling factor $M$ in discrete domain is:\r\n",
        "\r\n",
        ">$M = \\frac{1080}{54} = 20$\r\n",
        "\r\n",
        "to simplify the calculations raw data stream is converted into $900\\times30$ matrix and where $0^{th}$ row contains required samples with $54kHz$ and it again reshape into $30 \\times 30$ matrix which is the intial stage of the datamatrix."
      ]
    },
    {
      "cell_type": "markdown",
      "metadata": {
        "id": "Rq5wSz_10Xo6"
      },
      "source": [
        "####Perform downsampling"
      ]
    },
    {
      "cell_type": "code",
      "metadata": {
        "id": "s9hOWp893OrR"
      },
      "source": [
        "Fs = N*fr #sampling freq\r\n",
        "Ts = Fs_orig / Fs #sampling period for the data frame\r\n",
        "len_Radar = len(Raw_data) #size of the data frame\r\n",
        "\r\n",
        "no_samples = int(len_Radar/Ts)\r\n",
        "\r\n",
        "sample_matrix=Raw_data.reshape(no_samples,int(Ts)) #reshape into 900x20 matrix (simplify the calculations)\r\n",
        "\r\n",
        "T_sampled = len_Radar/Fs_orig\r\n",
        "theta_revol = rev_speed * len_Radar*6/Fs_orig\r\n",
        "\r\n",
        "echo_per_thetaH = (theta_h*fr)/(6*rev_speed)\r\n",
        "\r\n",
        "no_echos = int((echo_per_thetaH * theta_revol)/theta_h)\r\n",
        "\r\n",
        "\r\n",
        "\r\n",
        "Radar_sampled = sample_matrix[:,0].reshape(no_echos,N) #get the sampled data from 0th sample ..."
      ],
      "execution_count": null,
      "outputs": []
    },
    {
      "cell_type": "markdown",
      "metadata": {
        "id": "YcDzmECZ3U0Y"
      },
      "source": [
        "#### Let's observe How sampled Raw Data Matrix looks like:\r\n",
        "\r\n",
        "To detect objects threshold detection is used.\r\n"
      ]
    },
    {
      "cell_type": "code",
      "metadata": {
        "id": "OGbbKr8_3SUA"
      },
      "source": [
        "f, ax = plt.subplots(figsize=(10,8))\r\n",
        "plt.title(\"Data Matrix before Noise Thresholding\",fontsize = 16)\r\n",
        "ax = sns.heatmap(Radar_sampled, square=False,annot=False,cbar=False)"
      ],
      "execution_count": null,
      "outputs": []
    },
    {
      "cell_type": "markdown",
      "metadata": {
        "id": "XSVHVcAIi7pm"
      },
      "source": [
        "#Noise Threshold Calculation"
      ]
    },
    {
      "cell_type": "markdown",
      "metadata": {
        "id": "K88KDaW44fot"
      },
      "source": [
        "###Calculate Noise Average\r\n",
        "\r\n",
        "For each sample we have to calculate average noise to perform threshold detection.\r\n",
        "\r\n",
        "To calculate noise average ***21 sample window*** is chosen. Therefore, no. of samples in past video is 6 and present video is 6 and guard band length is 4 samples per one side. (for $0^{th} sample\\:$ past video data is not available therefore we have considered only the future video data.)\r\n",
        "\r\n",
        "Noise average $(V_n)_{avg}\\:$ for a sample range slot can be obtained as:\r\n",
        "\r\n",
        ">$(V_n)_{avg} = \\frac{\\sum_{i=5}^{10} (past video) + \\sum_{i=5}^{10} (future video)}{12}$\r\n",
        "\r\n",
        "Thresold value for a that sample range slot is:\r\n",
        "\r\n",
        ">$V_{TH}=(V_n)_{avg}+k\\cdot \\sigma_n $\r\n",
        "\r\n",
        "*(Since all calculations are done in vector form noise average is also obtained as a $30\\times30$ matrix)*\r\n",
        "\r\n",
        "![alt='dsdsd'](data:image/png;base64,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)"
      ]
    },
    {
      "cell_type": "code",
      "metadata": {
        "id": "jh4sLTRn4GGi"
      },
      "source": [
        "#get the average noise\r\n",
        "#get noise window #get prev 10 values next 10 values (ignore 4 nearest values from either sides)\r\n",
        "\r\n",
        "def Noise_average(sample_matrix__, k, sigma_n):\r\n",
        "  next_samples = sample_matrix__[:,5:11]\r\n",
        "\r\n",
        "  A = sample_matrix__[:no_samples-1,10:16]\r\n",
        "  prev_samples = np.vstack([next_samples[0],A])\r\n",
        "\r\n",
        "  #noise average vector\r\n",
        "  Avg_noise = np.mean(np.concatenate((next_samples,prev_samples),axis=1),axis=1)\r\n",
        "\r\n",
        "  #threshold vector\r\n",
        "  V_threshold = Avg_noise + k*sigma_n\r\n",
        "\r\n",
        "  return V_threshold\r\n",
        "\r\n",
        "V_threshold = Noise_average(sample_matrix, k, sigma_n).reshape(no_echos,N)"
      ],
      "execution_count": null,
      "outputs": []
    },
    {
      "cell_type": "markdown",
      "metadata": {
        "id": "qd1J1rY84rQ_"
      },
      "source": [
        "###Let's see how our noise threshold looks like :\r\n"
      ]
    },
    {
      "cell_type": "code",
      "metadata": {
        "id": "8OjIVK-34kPj"
      },
      "source": [
        "plt.figure(figsize=(10, 4))\r\n",
        "ax=plt.stem(Radar_sampled[0,0:30],use_line_collection=True)\r\n",
        "ax=plt.plot(V_threshold[0,0:30],color='r')\r\n",
        "ax=plt.ylabel('Sampled amplitude')\r\n",
        "ax=plt.xlabel('sample')\r\n",
        "ax=plt.title('Noise Threshold and Sampled data for 1st pulse')\r\n",
        "plt.show()"
      ],
      "execution_count": null,
      "outputs": []
    },
    {
      "cell_type": "markdown",
      "metadata": {
        "id": "A3PPp2wH6wRM"
      },
      "source": [
        "#Thresold Detector\r\n",
        "\r\n",
        "Very simple and low cost mechanism.\r\n",
        "\r\n",
        "$If\\:\\: V_{k}>V_{TH} \\:\\: then \\:V_{k} =1 \\:otherwise \\:0$\r\n",
        "\r\n"
      ]
    },
    {
      "cell_type": "code",
      "metadata": {
        "id": "g81Vq8Fo4wWw"
      },
      "source": [
        "def noise_threshold(data__,noise_avg__):\r\n",
        "  return (data__ > noise_avg__)*1\r\n",
        "\r\n",
        "data_matrix = noise_threshold(Radar_sampled, V_threshold)\r\n",
        "\r\n",
        "f, ax = plt.subplots(figsize=(10,8))\r\n",
        "plt.title(\"Data Matrix\",fontsize = 16)\r\n",
        "ax = sns.heatmap(data_matrix, square=False,annot=True,cbar=False,cmap=\"YlGnBu\")\r\n",
        "ax=ax.set(\r\n",
        "      xlabel=\"Fast Time\",\r\n",
        "      ylabel=\"Slow Time\")"
      ],
      "execution_count": null,
      "outputs": []
    },
    {
      "cell_type": "markdown",
      "metadata": {
        "id": "78KdtHhs7ysQ"
      },
      "source": [
        "#Post Detection Integration\r\n",
        "\r\n",
        "***Condition:***\r\n",
        "\r\n",
        "***If count > 0.5[Expected echoes per target per scan]***\r\n",
        "\r\n",
        "***Then there is a target in that range slot***\r\n",
        "\r\n",
        "If target is present in a range slot whole column is replaced by 0.5"
      ]
    },
    {
      "cell_type": "code",
      "metadata": {
        "id": "_O2czUkZ7T-Q"
      },
      "source": [
        "def object_detection(data_mat__,threshold__,echo_per_thetaH__ = None):\r\n",
        "  dataMatrix=data_mat__.astype(np.float)\r\n",
        "\r\n",
        "  range_sum = np.sum(dataMatrix,axis=0)\r\n",
        "\r\n",
        "  object_bins = []\r\n",
        "\r\n",
        "  #divide data matrix into horizontal beams\r\n",
        "  # horiz_beams = echo_per_thetaH__\r\n",
        "\r\n",
        "\r\n",
        "  for i,(itm) in enumerate(range_sum):\r\n",
        "    if itm >= threshold__:\r\n",
        "      object_bins.append(i)\r\n",
        "      dataMatrix[:,i] = 0.5 \r\n",
        "\r\n",
        "  return dataMatrix, object_bins\r\n",
        "\r\n",
        "matrix_filtered, objects = object_detection(data_matrix,15)\r\n",
        "\r\n",
        "f, ax = plt.subplots(figsize=(10,8))\r\n",
        "plt.title('Post Detection Integration',fontsize = 16)\r\n",
        "ax = sns.heatmap(matrix_filtered, square=False,annot=True,cbar=False,cmap=\"YlGnBu\")"
      ],
      "execution_count": null,
      "outputs": []
    },
    {
      "cell_type": "markdown",
      "metadata": {
        "id": "lSUZs5Ku-QOx"
      },
      "source": [
        "#Cloud Detection\r\n",
        "\r\n",
        "Due to high noise present in the data cloud detection thresholding algorithm is diffrent from object detection.\r\n",
        "\r\n",
        "Following steps were used to remove unwanted noise in sampled data matrix.\r\n",
        "\r\n",
        "####**Stage 1: Thresholding**\r\n",
        "\r\n",
        "1.   $If\\:\\: V_{k}>V_{TH} \\:\\: then \\:V_{k} =V_{k} \\:otherwise \\:0$\r\n",
        "2.   $If\\:\\: V_{k}>6 \\:\\: then \\:V_{k} =V_{k} \\:otherwise \\:0$\r\n",
        "3.   normalize values in the matrix and map all non zero values to 1 and zero range slots with objects.\r\n",
        "\r\n",
        "####**Stage 2: Filtering**\r\n",
        "\r\n",
        "\r\n",
        "\r\n",
        "1.   Apply noise reduction filter with $7\\times7$ kernel with $3$ as threshold value \r\n",
        "2.   Apply noise reduction filter with $5\\times5$ kernel with $2$ as threshold value \r\n",
        "\r\n",
        "####**Stage 3: Complete Missing Values**\r\n",
        "\r\n",
        "\r\n",
        "\r\n",
        "1.   Fill gaps with $2$ empty cells\r\n",
        "2.   Apply noise reduction filter with $5\\times5$ kernel with $4$ as threshold value \r\n",
        "3.   Fill gaps with $1$ empty cells\r\n",
        "4. Apply noise reduction filter with $3\\times3$ kernel with $2$ as threshold value \r\n",
        "\r\n",
        "#### **Stage 4: Fill Cloud Contour**\r\n",
        "\r\n",
        "\r\n",
        "1.   Use floodfill algorithm to fill cloud cointour within cloud boundary\r\n",
        "2.   Apply noise reduction filters to edge rows and columns with $3\\times3$ kernel with $2$ as threshold.\r\n",
        "\r\n"
      ]
    },
    {
      "cell_type": "markdown",
      "metadata": {
        "id": "xNJyQG4xboSF"
      },
      "source": [
        "###Stage 1: Thresholding\r\n",
        "\r\n",
        ">$If\\:\\: V_{k}>V_{TH} \\:\\: then \\:V_{k} =V_{k} \\:otherwise \\:0$\r\n",
        "\r\n",
        ">$V_{k}>6 \\:\\: then \\:V_{k} =V_{k} \\:otherwise \\:0$\r\n",
        "\r\n",
        ">$V_k = \\frac{V_k}{max(Data\\: Matrix)}$\r\n",
        "\r\n",
        ">$if\\: V_k > 0 \\:then\\: V_k = 1 \\: otherwise\\: 0 $\r\n",
        "\r\n",
        "Set range slots with objects to zero\r\n",
        "\r\n"
      ]
    },
    {
      "cell_type": "code",
      "metadata": {
        "id": "-gazxuNm9-qU"
      },
      "source": [
        "\r\n",
        "#apply thresholding step1\r\n",
        "Radar_filtered = (np.where(Radar_sampled>V_threshold,Radar_sampled,0)/1).reshape(no_echos,N)\r\n",
        "\r\n",
        "#appply thresholding step2\r\n",
        "Radar_filtered1 = np.where(Radar_filtered>6,Radar_filtered,0)\r\n",
        "\r\n",
        "#appply thresholding step3\r\n",
        "Radar_filtered2 = Radar_filtered1/np.max(Radar_filtered1)\r\n",
        "\r\n",
        "#convert image to binary and remove objects\r\n",
        "Radar_binary = np.where(Radar_filtered2>0,1,0)\r\n",
        "Radar_binary[:,objects] = 0\r\n",
        "\r\n",
        "f, ax = plt.subplots(figsize=(10,8))\r\n",
        "plt.title('Output of the Stage 1: step 1',fontsize = 16)\r\n",
        "ax = sns.heatmap(Radar_filtered.reshape(no_echos,N),cbar=False)\r\n",
        "\r\n",
        "#remove object responses\r\n",
        "f, ax = plt.subplots(figsize=(10,8))\r\n",
        "plt.title('Data Matrix after Thresholding',fontsize = 16)\r\n",
        "ax = sns.heatmap(Radar_binary.reshape(no_echos,N),cbar=False)"
      ],
      "execution_count": null,
      "outputs": []
    },
    {
      "cell_type": "markdown",
      "metadata": {
        "id": "M5WxlHvCb0y7"
      },
      "source": [
        "###Stage 2: Filtering \r\n",
        "\r\n",
        "####***noise_reduction() function***\r\n",
        "\r\n",
        "  args: \r\n",
        "  1.   martrix : Data Matrix to be filtered\r\n",
        "  2.   kernel_offset : size of the kernel $[kernel \\:size = (2*kernel\\_offset + 1)\\times(2*kernel\\_offset + 1) ]$\r\n",
        "  3. threshold : threshold value of the kernel \r\n",
        "\r\n",
        "return : Filtered Data matrix\r\n",
        "\r\n",
        ">$for\\: matrix[i,j],$\r\n",
        "\r\n",
        ">$kernel = matrix[i-kernel\\_offset:i+kernel\\_offset,j-kernel\\_offset:j+kernel\\_offset]$\r\n",
        "\r\n",
        ">$if \\sum(values\\: in \\:kernel)< threshold \\: \\:then$\r\n",
        "\r\n",
        ">$matrix[i-(kernel\\_offset-1):i+kernel\\_offset,j-(kernel\\_offset-1):j+kernel\\_offset] = 0$\r\n",
        "\r\n",
        "####.\r\n",
        "####***noise_1D() function***\r\n",
        "\r\n",
        "  args: \r\n",
        "  1.   martrix : Data Matrix to be filtered\r\n",
        "  2.   kernel_offset : size of the kernel $[kernel \\:size = 2*kernel\\_offset + 1]$\r\n",
        "  3. threshold : threshold value of the kernel \r\n",
        "\r\n",
        "return : Filtered Data matrix\r\n",
        "\r\n",
        ">**For this function we are considering first and last rows/columns of the matrix to filter edge cases**\r\n",
        "\r\n",
        ">$arr$ = first/last of rows/columns of the data matrix.\r\n",
        "\r\n",
        ">$for \\: arr[i],$\r\n",
        "\r\n",
        ">$kernel = arr[i-kernel\\_offset,i+kernel\\_offset]$\r\n",
        "\r\n",
        ">$if \\sum(values\\: in \\:kernel)< threshold \\: \\:then$\r\n",
        "\r\n",
        ">$arr[i] = 0$\r\n",
        "\r\n",
        "\r\n",
        "###Apply noise_reduction() filter to data matrix \r\n",
        "\r\n",
        "1.   Apply noise reduction filter with $7\\times7$ kernel with $3$ as threshold value \r\n",
        "2.   Apply noise reduction filter with $5\\times5$ kernel with $2$ as threshold value "
      ]
    },
    {
      "cell_type": "code",
      "metadata": {
        "id": "F49nNIkm-jr0"
      },
      "source": [
        "#noise reduction function\r\n",
        "def noise_reduction(matrix,kernel_offset,threshold):\r\n",
        "  h,w = matrix.shape\r\n",
        "\r\n",
        "  for i in range (0+kernel_offset,h-kernel_offset):\r\n",
        "    for j in range (0+kernel_offset,w-kernel_offset):\r\n",
        "      kernel = matrix[i-kernel_offset:i+kernel_offset+1,j-kernel_offset:j+kernel_offset+1]\r\n",
        "      if matrix[i,j]: \r\n",
        "        sum = np.sum(kernel)\r\n",
        "        if sum < threshold:\r\n",
        "          matrix[i:min(i-2,i),j:min(i-2,i)] = 0\r\n",
        "          matrix[i-(kernel_offset-1):i+(kernel_offset),j-(kernel_offset-1):j+(kernel_offset)] = 0\r\n",
        "  return matrix\r\n",
        "\r\n",
        "def noise_1D (matrix,kernel_offset,threshold):\r\n",
        "  h,w = matrix.shape\r\n",
        "\r\n",
        "  rows_0 = matrix[0,:]\r\n",
        "  rows_1 = matrix[h-1,:]\r\n",
        "\r\n",
        "  col_0 = matrix[:,0]\r\n",
        "  col_1 = matrix[:,w-1]\r\n",
        "\r\n",
        "  for i in range (0,w-kernel_offset):\r\n",
        "    kernel = rows_0 [i-kernel_offset:i+kernel_offset+1]\r\n",
        "    if np.sum(kernel)<3:\r\n",
        "      rows_0[i]=0\r\n",
        "\r\n",
        "  for i in range (0,w-kernel_offset):\r\n",
        "    kernel = rows_1 [i-kernel_offset:i+kernel_offset+1]\r\n",
        "    if np.sum(kernel)<3:\r\n",
        "      rows_1[i]=0\r\n",
        "\r\n",
        "  for i in range (0,h-kernel_offset):\r\n",
        "    kernel = col_0 [i-kernel_offset:i+kernel_offset+1]\r\n",
        "    if np.sum(kernel)<3:\r\n",
        "      col_0[i]=0\r\n",
        "  for i in range (0,h-kernel_offset):\r\n",
        "    kernel = col_1 [i-kernel_offset:i+kernel_offset+1]\r\n",
        "    if np.sum(kernel)<3:\r\n",
        "      col_1[i]=0\r\n",
        "  return matrix\r\n",
        "\r\n",
        "#apply noise filters\r\n",
        "interm_noisy = noise_reduction(Radar_binary.reshape(no_echos,N),3,3)\r\n",
        "binary_filtered = noise_reduction(interm_noisy.reshape(no_echos,N),2,2)\r\n",
        "\r\n",
        "f, ax = plt.subplots(figsize=(10,8))\r\n",
        "plt.title('Data Matrix after Filtering ',fontsize = 16)\r\n",
        "ax = sns.heatmap(binary_filtered, square=False,annot=True,cbar=False,cmap=\"YlGnBu\")"
      ],
      "execution_count": null,
      "outputs": []
    },
    {
      "cell_type": "markdown",
      "metadata": {
        "id": "FA2cKMPmF5oX"
      },
      "source": [
        "### Stage 3: Complete Missing Values\r\n",
        "\r\n",
        "\r\n",
        "####***draw_lines() function***\r\n",
        "\r\n",
        "args:\r\n",
        "\r\n",
        "1.   AAA - data matrix \r\n",
        "\r\n",
        "return : Data matrix with completed gaps span to $2$ cells\r\n",
        "\r\n",
        "  >$kernel = AAA[i:i+kernel\\_offset,j:j+kernel\\_offset]$\r\n",
        "\r\n",
        "1. pass kernel to fill_two() function\r\n",
        "\r\n",
        "2. flip the resulting kernel horizontally and pass again to fill_two() function\r\n",
        "\r\n",
        "3. transpose the resulting kernel and pass again to fill_two() function\r\n",
        "\r\n",
        "*above transformations are done to cover all cases easily ($\\because$ symmetry of the cases)*\r\n",
        " \r\n",
        "####***fill_two() function***\r\n",
        "\r\n",
        "args:\r\n",
        "1. kernel : kernel to be analyses\r\n",
        "\r\n",
        "return : kernel with completed gaps span to $2$ cells\r\n",
        "\r\n",
        "following cases are considered $(0  \\leq i < 4)$:\r\n",
        "\r\n",
        "![output-onlinepngtools (4).png](data:image/png;base64,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)\r\n",
        "\r\n",
        "####***draw_lines1() function***\r\n",
        "\r\n",
        "Similar to draw_lines2 this functions fill the gaps span to $1$ cell by calling fill_one function\r\n",
        "\r\n",
        "####***fill_one() function***\r\n",
        "\r\n",
        "args:\r\n",
        "1. kernel : kernel to be analyses\r\n",
        "\r\n",
        "return : kernel with completed gaps span to $1$ cells\r\n",
        "\r\n",
        "following cases are considered $(0  \\leq i < 3)$:\r\n",
        "\r\n",
        "![output-onlinepngtools (8).png](data:image/png;base64,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)\r\n",
        "\r\n",
        "####Fill missing values with noise filters.\r\n",
        "\r\n",
        "1.   Fill gaps with $2$ empty cells\r\n",
        "2.   Apply noise reduction filter with $5\\times5$ kernel with $4$ as threshold value \r\n",
        "3.   Fill gaps with $1$ empty cells\r\n",
        "4. Apply noise reduction filter with $3\\times3$ kernel with $2$ as threshold value \r\n"
      ]
    },
    {
      "cell_type": "code",
      "metadata": {
        "id": "QLfVEqIB_M0w"
      },
      "source": [
        "#fill max distance == 2 \r\n",
        "\r\n",
        "def fill_two(kernel):\r\n",
        "  def filter(kernel):\r\n",
        "\r\n",
        "    for i in range (4):\r\n",
        "        if  (kernel[i,0] ==1 and kernel[i,3]==1) : \r\n",
        "          # print('0***')\r\n",
        "          kernel[i,1:3] = 4 \r\n",
        "        elif (i<3) and (kernel[i,0] ==1 and kernel[i+1,3]==1) :\r\n",
        "          # print('*0**')\r\n",
        "          kernel[i,1] = 5\r\n",
        "          kernel[i+1,2]=5\r\n",
        "        elif (i<2) and (kernel[i,0] ==1 and kernel[i+2,3]==1) :\r\n",
        "          # print('**0*')\r\n",
        "          kernel[i+1,1] = 6\r\n",
        "          kernel[i+2,2]=6\r\n",
        "        elif (i<1) and (kernel[i,0] ==1 and kernel[i+3,3]==1) :\r\n",
        "          # print('***0')\r\n",
        "          kernel[i+1,1] = 7\r\n",
        "          kernel[i+2,2]=7\r\n",
        "\r\n",
        "    return kernel \r\n",
        "\r\n",
        "\r\n",
        "  return filter(kernel)\r\n",
        "\r\n",
        "# fill max distance =1\r\n",
        "\r\n",
        "def fill_ones(kernel):\r\n",
        "\r\n",
        "    if (kernel[0,0] == 1 and kernel[2,2] == 1) or (kernel[0,2] == 1 and kernel[2,0] == 1)  or (kernel[1,0] == 1 and kernel[1,2] == 1) or (kernel[0,1] == 1 and kernel[2,1] == 1): \r\n",
        "      kernel[1,1] = 2\r\n",
        "\r\n",
        "    elif (kernel[0,0] == 1 and (kernel[2,1] == 1 or kernel[1,2] == 1)) and (3 not in kernel): kernel[1,1] = 3\r\n",
        "    elif (kernel[0,2] == 1 and (kernel[1,0] == 1 or kernel[2,1] == 1))and (3 not in kernel): kernel[1,1] = 3\r\n",
        "    elif (kernel[2,0] == 1 and (kernel[0,1] == 1 or kernel[1,2] == 1))and (3 not in kernel): kernel[1,1] = 3\r\n",
        "    elif (kernel[2,2] == 1 and (kernel[1,0] == 1 or kernel[0,1] == 1))and (3 not in kernel): kernel[1,1] = 3   \r\n",
        "\r\n",
        "    return kernel\r\n",
        "\r\n",
        "\r\n",
        "def draw_lines2 (AAA):\r\n",
        "  h,w = AAA.shape\r\n",
        "  kernel_offset = 3\r\n",
        "  for i in range (0,h-kernel_offset):\r\n",
        "    for j in range (0,w- kernel_offset):\r\n",
        "      kernel = AAA[i:i+kernel_offset+1,j:j+kernel_offset+1]\r\n",
        "\r\n",
        "      CCC = fill_two(kernel)\r\n",
        "      DDD =  np.flip(fill_two(np.flip(CCC,axis=1)),axis=1)\r\n",
        "      AAA[i:i+kernel_offset+1,j:j+kernel_offset+1] = np.transpose(fill_two(np.transpose(DDD)))\r\n",
        "  return AAA\r\n",
        "\r\n",
        "def draw_lines1 (AAA):\r\n",
        "  h,w = AAA.shape\r\n",
        "  kernel_offset = 4\r\n",
        "  for i in range (0+kernel_offset,h-kernel_offset):\r\n",
        "    for j in range (0+kernel_offset,w-kernel_offset):\r\n",
        "      kernel = AAA[i-kernel_offset:i+kernel_offset+1,j-kernel_offset:j+kernel_offset+1]\r\n",
        "      if np.sum(kernel)<5:\r\n",
        "        BBB = fill_ones(kernel)\r\n",
        "        AAA[i-kernel_offset:i+kernel_offset+1,j-kernel_offset:j+kernel_offset+1] = BBB\r\n",
        "\r\n",
        "  return AAA"
      ],
      "execution_count": null,
      "outputs": []
    },
    {
      "cell_type": "code",
      "metadata": {
        "id": "ZpzlLa3CGHzs"
      },
      "source": [
        "#fill 2 blanks\r\n",
        "draw_2 =(draw_lines2 (binary_filtered)>0)*1\r\n",
        "\r\n",
        "f, ax = plt.subplots(figsize=(10,8))\r\n",
        "plt.title('Data Matrix after filling 2 cell gaps ',fontsize = 16)\r\n",
        "ax = sns.heatmap(draw_2, square=False,annot=True,cbar=False,cmap=\"YlGnBu\")\r\n",
        "\r\n",
        "#noise filter\r\n",
        "draw2_filt= noise_reduction(draw_2,2,4)\r\n",
        "\r\n",
        "#fill 1 blank\r\n",
        "draw_1 =(draw_lines1 (draw2_filt)>0)*1\r\n",
        "\r\n",
        "draw1_filt= noise_reduction(draw_1,1,3)\r\n",
        "\r\n",
        "f, ax = plt.subplots(figsize=(10,8))\r\n",
        "plt.title('Data Matrix after filling 1 cell gaps ',fontsize = 16)\r\n",
        "ax = sns.heatmap(draw_1, square=False,annot=True,cbar=False,cmap=\"YlGnBu\")"
      ],
      "execution_count": null,
      "outputs": []
    },
    {
      "cell_type": "markdown",
      "metadata": {
        "id": "-lnt3lNezVff"
      },
      "source": [
        "### Stage 4: Fill Cloud Contour\r\n",
        "\r\n",
        "\r\n",
        "1.   Use floodfill algorithm to fill cloud cointour within cloud boundary\r\n",
        "2.   Apply noise reduction filters (***noise_1D() function*** - mentioned in filtering seciton) to edge rows and columns with $3\\times3$ kernel with $2$ as threshold.\r\n"
      ]
    },
    {
      "cell_type": "code",
      "metadata": {
        "id": "pyqR3_aWJl85"
      },
      "source": [
        "data_matrix_uint=draw_1.astype(np.uint8)\r\n",
        "floodFill=cv.floodFill(data_matrix_uint, None, seedPoint=(0,0), newVal=5)\r\n",
        "\r\n",
        "matrix_ret=floodFill[1].reshape(no_echos,N)\r\n",
        "dataMtrix_processed = np.where(matrix_ret==5,0,1)\r\n"
      ],
      "execution_count": null,
      "outputs": []
    },
    {
      "cell_type": "markdown",
      "metadata": {
        "id": "gG0s1EaHVSp3"
      },
      "source": [
        "there can be noisy bins in the edges of the matrix. we can remove them now by traversing 1D kernel along columns/rows."
      ]
    },
    {
      "cell_type": "code",
      "metadata": {
        "id": "lBRbnTL4Lq6h"
      },
      "source": [
        "dataMatrix_final=noise_1D (dataMtrix_processed,3,2).astype(np.float)\r\n",
        "\r\n",
        "f, ax = plt.subplots(figsize=(10,8))\r\n",
        "plt.title('Data Matrix after floodfill ',fontsize = 16)\r\n",
        "ax = sns.heatmap(dataMatrix_final, square=False,annot=True,cbar=False,cmap=\"YlGnBu\")"
      ],
      "execution_count": null,
      "outputs": []
    },
    {
      "cell_type": "markdown",
      "metadata": {
        "id": "Uimcld3CfqHf"
      },
      "source": [
        "#Visualization\r\n",
        "\r\n",
        "1.   Map clouds to $1$ and objects to $0.5$ and display final Data Matrix.\r\n",
        "2.   Perform Calculations and display azimuth information.\r\n",
        "\r\n"
      ]
    },
    {
      "cell_type": "code",
      "metadata": {
        "id": "imR0J2PXf0Kk"
      },
      "source": [
        "#add object columns\r\n",
        "dataMatrix_final[:,objects]=0.5\r\n",
        "\r\n",
        "f, ax = plt.subplots(figsize=(10,8))\r\n",
        "plt.title('Final Data Matrix with Clouds and Detected Objects',fontsize = 16)\r\n",
        "ax = sns.heatmap(dataMatrix_final, square=False,annot=True,cbar=False,cmap=\"YlGnBu\")"
      ],
      "execution_count": null,
      "outputs": []
    },
    {
      "cell_type": "markdown",
      "metadata": {
        "id": "F3Vrc6CV2733"
      },
      "source": [
        "#####Display range of the objects:\r\n",
        "\r\n",
        "For range and azimuth angle calculations:\r\n",
        "  \r\n",
        "  >$\\Delta R = \\frac{c \\times T_{s}}{2} = 2778m$ \r\n",
        "\r\n",
        "Since we are given 18000 samples # of pulses we have  = $30$\r\n",
        "\r\n",
        "Horizontal beam width of the Radar is $(\\theta_H)$ $2^\\circ$ and pulses per $(\\theta_H)$ is equals to $50$, we cannot experience a change in azimuth with given 30 pulses. ($\\because 30 < echoes\\ per\\ \\theta_H $).\r\n",
        "\r\n",
        "Since $\\theta_{init} = 0$ I have decided to set azimuth value to $0^\\circ \\pm 1^\\circ$"
      ]
    },
    {
      "cell_type": "code",
      "metadata": {
        "id": "fnBNUGziH2E_"
      },
      "source": [
        "\r\n",
        "\r\n",
        "if len(objects) != 0:\r\n",
        "  k = (rev_speed*360/60) * (1/(2*Fs))\r\n",
        "\r\n",
        "  azymuth = np.dot(objects,0)\r\n",
        "  range_m = np.dot(C/(2*Fs),np.add(objects,1))\r\n",
        "\r\n",
        "  for i,(r, theta) in enumerate(zip(range_m, azymuth)):\r\n",
        "    print(f'Target {i} is at ({r*1e-3:.3f}km, {theta:.3f}deg)')\r\n",
        "else:\r\n",
        "  print('No target detected')\r\n",
        "  azymuth = []\r\n",
        "  range_m = []"
      ],
      "execution_count": null,
      "outputs": []
    },
    {
      "cell_type": "code",
      "metadata": {
        "id": "e9Lkk6gHIHiz"
      },
      "source": [
        "#plot target vectors in radar screen\r\n",
        "\r\n",
        "\r\n",
        "\r\n",
        "def plot_point(angle, length_m):\r\n",
        "  norm_fact  = N * (C/2) * (1/(fr * N) )\r\n",
        "  \r\n",
        "  if len(length_m) !=0:\r\n",
        "    length = length_m/1000\r\n",
        "  else:\r\n",
        "    length = length_m\r\n",
        "  fig = plt.figure(figsize=(8,8))\r\n",
        "  plt.style.use('dark_background')\r\n",
        "  x, y = (0,0)                                                                    \r\n",
        "  font_dict = {'size':'12', 'color':'xkcd:chartreuse'}\r\n",
        "  n_target = 1\r\n",
        "  plt.polar()   \r\n",
        "  fig.set_facecolor('xkcd:black')                                                                \r\n",
        "  if len(angle) == 0:                                                             \r\n",
        "    plt.text(0, 0,'x' , font_dict)\r\n",
        "\r\n",
        "  for az_angle, range_val in zip(angle, length):\r\n",
        "    plt.polar(az_angle, range_val, 'ro', markersize=10)                           \r\n",
        "    str_ = f'T:0{n_target}\\n({range_val:.2f}km, {az_angle:.2f} deg)'\r\n",
        "    plt.text(az_angle - 0.05, range_val+0.05, str_, font_dict)                    \r\n",
        "    n_target += 1\r\n",
        "\r\n",
        "  plt.title('Radar Screen', {'size':'16', 'color':'xkcd:chartreuse', 'weight':'normal',\r\n",
        "          'verticalalignment':'bottom'})\r\n",
        "  fig.show()"
      ],
      "execution_count": null,
      "outputs": []
    },
    {
      "cell_type": "code",
      "metadata": {
        "id": "4LCgitfVSs18"
      },
      "source": [
        "ax=plot_point( azymuth,range_m)"
      ],
      "execution_count": null,
      "outputs": []
    },
    {
      "cell_type": "markdown",
      "metadata": {
        "id": "vM1m9iM1ih8X"
      },
      "source": [
        "####Temp"
      ]
    },
    {
      "cell_type": "code",
      "metadata": {
        "id": "mDraQ2vN_r-D"
      },
      "source": [
        "# # for a given data matrix azimuth can be obtained seperately \r\n",
        "\r\n",
        "# # filename = \"df2\"\r\n",
        "# del Raw_data\r\n",
        "# Raw_data = df5.to_numpy()\r\n",
        "\r\n",
        "# Fs = N*fr #sampling freq\r\n",
        "# Ts = Fs_orig / Fs #sampling period for the data frame\r\n",
        "# len_Radar = len(Raw_data) #size of the data frame\r\n",
        "\r\n",
        "# no_samples = int(len_Radar/Ts)\r\n",
        "\r\n",
        "# print(no_samples)\r\n",
        "\r\n",
        "# del sample_matrix0\r\n",
        "# sample_matrix0=Raw_data.reshape(no_samples,int(Ts)) #reshape into 900x20 matrix (simplify the calculations)\r\n",
        "\r\n",
        "# T_sampled = len_Radar/Fs_orig\r\n",
        "# theta_revol = rev_speed * len_Radar*6/Fs_orig\r\n",
        "\r\n",
        "# echo_per_thetaH = (theta_h*fr)/(6*rev_speed)\r\n",
        "\r\n",
        "# no_echos = int((echo_per_thetaH * theta_revol)/theta_h)\r\n",
        "\r\n",
        "# del Radar_sampled0\r\n",
        "# Radar_sampled0 = sample_matrix0[:,0].reshape(no_echos,N) #get the sampled data from 0th sample ...\r\n",
        "\r\n",
        "# f, ax = plt.subplots(figsize=(10,8))\r\n",
        "# plt.title(\"Data Matrix before Noise Thresholding\",fontsize = 16)\r\n",
        "# ax = sns.heatmap(Radar_sampled0, square=False,annot=False,cbar=False)\r\n",
        "\r\n",
        "\r\n",
        "# V_threshold0 = Noise_average(sample_matrix0, k, sigma_n).reshape(no_echos,N)\r\n",
        "\r\n",
        "# del data_matrix\r\n",
        "# data_matrix = noise_threshold(Radar_sampled0, V_threshold0)\r\n",
        "\r\n",
        "# plt.title(\"Data Matrix after Noise Thresholding\",fontsize = 16)\r\n",
        "# ax = sns.heatmap(data_matrix, square=False,annot=False,cbar=False)\r\n",
        "\r\n",
        "\r\n",
        "# matrix_filtered, objects = object_detection(data_matrix,15)\r\n",
        "\r\n",
        "\r\n",
        "\r\n",
        "# #apply thresholding step1\r\n",
        "# del Radar_filtered\r\n",
        "# Radar_filtered = (np.where(Radar_sampled>V_threshold,Radar_sampled,0)/1).reshape(no_echos,N)\r\n",
        "\r\n",
        "# #appply thresholding step2\r\n",
        "# Radar_filtered1 = np.where(Radar_filtered>6,Radar_filtered,0)\r\n",
        "\r\n",
        "# #appply thresholding step3\r\n",
        "# Radar_filtered2 = Radar_filtered1/np.max(Radar_filtered1)\r\n",
        "\r\n",
        "# #convert image to binary and remove objects\r\n",
        "# Radar_binary = np.where(Radar_filtered2>0,1,0)\r\n",
        "# Radar_binary[:,objects] = 0\r\n",
        "\r\n",
        "# #apply noise filters\r\n",
        "# del interm_noisy\r\n",
        "# interm_noisy = noise_reduction(Radar_binary.reshape(no_echos,N),3,3)\r\n",
        "\r\n",
        "# del binary_filtered\r\n",
        "# binary_filtered = noise_reduction(interm_noisy.reshape(no_echos,N),2,2)\r\n",
        "\r\n",
        "# #fill 2 blanks\r\n",
        "# draw_2 =(draw_lines2 (binary_filtered)>0)*1\r\n",
        "\r\n",
        "# f, ax = plt.subplots(figsize=(10,8))\r\n",
        "# plt.title('Data Matrix after filling 2 cell gaps ',fontsize = 16)\r\n",
        "# ax = sns.heatmap(draw_2, square=False,annot=True,cbar=False,cmap=\"YlGnBu\")\r\n",
        "\r\n",
        "# #noise filter\r\n",
        "# del draw2_filt\r\n",
        "# draw2_filt= noise_reduction(draw_2,2,4)\r\n",
        "\r\n",
        "# #fill 1 blank\r\n",
        "# draw_1 =(draw_lines1 (draw2_filt)>0)*1\r\n",
        "\r\n",
        "# draw1_filt= noise_reduction(draw_1,1,3)\r\n",
        "\r\n",
        "# data_matrix_uint=draw_1.astype(np.uint8)\r\n",
        "# floodFill=cv.floodFill(data_matrix_uint, None, seedPoint=(0,0), newVal=5)\r\n",
        "\r\n",
        "# matrix_ret=floodFill[1].reshape(no_echos,N)\r\n",
        "# dataMtrix_processed = np.where(matrix_ret==5,0,1)\r\n",
        "\r\n",
        "# dataMatrix_final=noise_1D (dataMtrix_processed,3,2).astype(np.float)\r\n",
        "\r\n",
        "# #add object columns\r\n",
        "# dataMatrix_final[:,objects]=0.5\r\n",
        "\r\n",
        "# f, ax = plt.subplots(figsize=(10,8))\r\n",
        "# plt.title('Final Data Matrix with Clouds and Detected Objects',fontsize = 16)\r\n",
        "# ax = sns.heatmap(dataMatrix_final, square=False,annot=True,cbar=False,cmap=\"YlGnBu\")"
      ],
      "execution_count": null,
      "outputs": []
    },
    {
      "cell_type": "code",
      "metadata": {
        "id": "ndXGeRROHLZY"
      },
      "source": [
        ""
      ],
      "execution_count": null,
      "outputs": []
    }
  ]
}